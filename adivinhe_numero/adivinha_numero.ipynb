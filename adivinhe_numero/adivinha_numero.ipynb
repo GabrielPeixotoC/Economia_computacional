{
 "cells": [
  {
   "cell_type": "markdown",
   "id": "69a7e9ad-180b-4c3a-a5cc-56ae9c37d404",
   "metadata": {
    "tags": []
   },
   "source": [
    "# Adivinhe um número.\n",
    "\n",
    "## Programa\n",
    "O usuário terá 3 chances de acertar um número gerado aleatoriamente entre 1 e 10"
   ]
  },
  {
   "cell_type": "code",
   "execution_count": 1,
   "id": "31564532-133e-4a47-ba5a-ffb2d8df9144",
   "metadata": {},
   "outputs": [],
   "source": [
    "from random import randint"
   ]
  },
  {
   "cell_type": "code",
   "execution_count": 8,
   "id": "96247ce8-b8da-4149-9d8c-73d18ae7fff0",
   "metadata": {},
   "outputs": [],
   "source": [
    "def gerador_numero():\n",
    "    n = randint(1, 10)\n",
    "    return n"
   ]
  },
  {
   "cell_type": "code",
   "execution_count": 9,
   "id": "9096bd8f-9aa9-49d9-8763-059ec90e14d3",
   "metadata": {},
   "outputs": [],
   "source": [
    "def pergunta_usuario():\n",
    "    lista_usuario = []\n",
    "    for i in range(1, 4):\n",
    "        num = int(input(f\"Escolha o {i}º número entre 1 e 10:\"))\n",
    "        lista_usuario.append(num)\n",
    "    return lista_usuario"
   ]
  },
  {
   "cell_type": "code",
   "execution_count": 10,
   "id": "2880a45d-7691-4c44-b69a-acdf3e400208",
   "metadata": {},
   "outputs": [],
   "source": [
    "def checagem(numero_sorteado, numeros_usuario):\n",
    "    if numero_sorteado in numeros_usuario:\n",
    "        print(f'Parabéns você ganhou!\\nO numero sorteado era {numero_sorteado}.')\n",
    "    else:\n",
    "        print(f'Infelizmente, você não acertou.\\nO número sorteado é {numero_sorteado}.')"
   ]
  },
  {
   "cell_type": "code",
   "execution_count": 13,
   "id": "a209677d-cae5-48c4-8b36-943913f4867e",
   "metadata": {},
   "outputs": [],
   "source": [
    "def main():\n",
    "    numero_sorteado = gerador_numero()\n",
    "    num = pergunta_usuario()\n",
    "    checagem(numero_sorteado, num)"
   ]
  },
  {
   "cell_type": "code",
   "execution_count": 18,
   "id": "40973473-b1e1-4f06-82c5-982c5a12a3d6",
   "metadata": {},
   "outputs": [
    {
     "name": "stdin",
     "output_type": "stream",
     "text": [
      "Escolha o 1º número entre 1 e 10: 4\n",
      "Escolha o 2º número entre 1 e 10: 5\n",
      "Escolha o 3º número entre 1 e 10: 6\n"
     ]
    },
    {
     "name": "stdout",
     "output_type": "stream",
     "text": [
      "Infelizmente, você não acertou.\n",
      "O número sorteado é 1.\n"
     ]
    }
   ],
   "source": [
    "main()"
   ]
  }
 ],
 "metadata": {
  "kernelspec": {
   "display_name": "Python 3 (ipykernel)",
   "language": "python",
   "name": "python3"
  },
  "language_info": {
   "codemirror_mode": {
    "name": "ipython",
    "version": 3
   },
   "file_extension": ".py",
   "mimetype": "text/x-python",
   "name": "python",
   "nbconvert_exporter": "python",
   "pygments_lexer": "ipython3",
   "version": "3.9.7"
  }
 },
 "nbformat": 4,
 "nbformat_minor": 5
}
