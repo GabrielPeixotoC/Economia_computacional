{
 "cells": [
  {
   "cell_type": "markdown",
   "id": "164edf87-8f0a-4568-ae76-df0c26a83f18",
   "metadata": {},
   "source": [
    "# Programa temperatura_ambiente\n",
    "\n",
    "## Problema\n",
    "Fazer um programa que pergunte a temperatura do ambiente. Se ela for menor que ou igual a 18 graus Celsius, imprima está frio. Se ela estiver de 18 a 28 graus Celsius, imprima está agradável. Se estiver mais do que 28 graus Celsius, imprima está quente.\n"
   ]
  },
  {
   "cell_type": "code",
   "execution_count": 3,
   "id": "135217e5-9fa2-4ec1-a5b9-14cddca21eba",
   "metadata": {},
   "outputs": [],
   "source": [
    "#alocação de memoria\n",
    "\n",
    "temperatura: float = 0"
   ]
  },
  {
   "cell_type": "code",
   "execution_count": 4,
   "id": "ab46e4c5-c6e4-433e-bf39-2a35b42020f0",
   "metadata": {},
   "outputs": [
    {
     "name": "stdin",
     "output_type": "stream",
     "text": [
      "Qual a temperatura do ambiente?  40\n"
     ]
    }
   ],
   "source": [
    "#entrada de dados\n",
    "\n",
    "temperatura = float(input(\"Qual a temperatura do ambiente? \"))"
   ]
  },
  {
   "cell_type": "code",
   "execution_count": 5,
   "id": "810676ce-ef46-449c-9bb7-408a024f3957",
   "metadata": {},
   "outputs": [
    {
     "name": "stdout",
     "output_type": "stream",
     "text": [
      "Está quente\n"
     ]
    }
   ],
   "source": [
    "#processamento e saída de dados\n",
    "\n",
    "if temperatura <= 18:\n",
    "    print('Está Frio')\n",
    "\n",
    "elif temperatura > 18 and temperatura < 28:\n",
    "    print('O clima está agradável')\n",
    "    \n",
    "else:\n",
    "    print('Está quente')"
   ]
  }
 ],
 "metadata": {
  "kernelspec": {
   "display_name": "Python 3 (ipykernel)",
   "language": "python",
   "name": "python3"
  },
  "language_info": {
   "codemirror_mode": {
    "name": "ipython",
    "version": 3
   },
   "file_extension": ".py",
   "mimetype": "text/x-python",
   "name": "python",
   "nbconvert_exporter": "python",
   "pygments_lexer": "ipython3",
   "version": "3.9.7"
  }
 },
 "nbformat": 4,
 "nbformat_minor": 5
}
