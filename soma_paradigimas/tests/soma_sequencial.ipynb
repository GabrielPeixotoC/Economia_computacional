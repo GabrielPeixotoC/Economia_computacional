{
 "cells": [
  {
   "cell_type": "code",
   "execution_count": 1,
   "id": "e35eb682-60c5-4ccd-b23f-de42776eceeb",
   "metadata": {},
   "outputs": [],
   "source": [
    "# Teste do programa soma_sequencial"
   ]
  },
  {
   "cell_type": "code",
   "execution_count": 2,
   "id": "83410b2c-4896-4a78-bfd4-cd801d03c427",
   "metadata": {},
   "outputs": [],
   "source": [
    "# Definição de variáveis\n",
    "\n",
    "numero_1 = 0\n",
    "numero_2 = 0\n",
    "soma = 0\n",
    "\n"
   ]
  },
  {
   "cell_type": "code",
   "execution_count": 3,
   "id": "5fb29d46-1136-4574-b2d5-8da6b07fad54",
   "metadata": {},
   "outputs": [
    {
     "name": "stdin",
     "output_type": "stream",
     "text": [
      "Digite o primeiro número:  2\n",
      "Digite o segundo número:  5\n"
     ]
    }
   ],
   "source": [
    "# Entrada de dados\n",
    "\n",
    "numero_1 = int(input('Digite o primeiro número: '))\n",
    "numero_2 = int(input('Digite o segundo número: '))"
   ]
  },
  {
   "cell_type": "code",
   "execution_count": 4,
   "id": "d754ce6f-626a-4026-921e-e8f0640021fe",
   "metadata": {},
   "outputs": [],
   "source": [
    "# Processamento de dados\n",
    "\n",
    "soma  = numero_1 + numero_2"
   ]
  },
  {
   "cell_type": "code",
   "execution_count": 5,
   "id": "e930b3c4-c032-4126-b9f2-5461078a4195",
   "metadata": {},
   "outputs": [
    {
     "name": "stdout",
     "output_type": "stream",
     "text": [
      "A soma dos número é 7\n"
     ]
    }
   ],
   "source": [
    "# Saída de dados\n",
    "\n",
    "print(f'A soma dos número é {soma}')"
   ]
  }
 ],
 "metadata": {
  "kernelspec": {
   "display_name": "Python 3 (ipykernel)",
   "language": "python",
   "name": "python3"
  },
  "language_info": {
   "codemirror_mode": {
    "name": "ipython",
    "version": 3
   },
   "file_extension": ".py",
   "mimetype": "text/x-python",
   "name": "python",
   "nbconvert_exporter": "python",
   "pygments_lexer": "ipython3",
   "version": "3.9.7"
  }
 },
 "nbformat": 4,
 "nbformat_minor": 5
}
