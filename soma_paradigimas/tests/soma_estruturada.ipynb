{
 "cells": [
  {
   "cell_type": "markdown",
   "id": "97a649ad-56e2-4381-a6fd-bd4eaa1bb70e",
   "metadata": {},
   "source": [
    "# Soma estruturada\n"
   ]
  },
  {
   "cell_type": "code",
   "execution_count": 5,
   "id": "080ead2e-157a-461e-a9e6-e7ce4db42917",
   "metadata": {},
   "outputs": [],
   "source": [
    "# Definição de variáveis\n",
    "\n",
    "i = 0\n",
    "numeros = [0, 0]\n",
    "soma = 0 "
   ]
  },
  {
   "cell_type": "code",
   "execution_count": 6,
   "id": "bce7c7cc-63eb-4180-a784-7e8de7cee470",
   "metadata": {},
   "outputs": [
    {
     "name": "stdin",
     "output_type": "stream",
     "text": [
      "digite a parcela 1: 5\n",
      "digite a parcela 2: 9\n"
     ]
    }
   ],
   "source": [
    "# Entrada de dados\n",
    "while i < 2:\n",
    "    numeros[i] = int(input(f'digite a parcela {i+1}:'))\n",
    "    i +=1"
   ]
  },
  {
   "cell_type": "code",
   "execution_count": 7,
   "id": "0c2c39fb-c5c4-456f-b644-99cc35d09efa",
   "metadata": {},
   "outputs": [],
   "source": [
    "# processamento de dados\n",
    "\n",
    "for i in numeros:\n",
    "    soma = soma + i"
   ]
  },
  {
   "cell_type": "code",
   "execution_count": 9,
   "id": "50084448-8f6c-47fd-9811-3ed7223968dc",
   "metadata": {},
   "outputs": [
    {
     "name": "stdout",
     "output_type": "stream",
     "text": [
      "A soma dos numeros é 14\n"
     ]
    }
   ],
   "source": [
    "# Saída de dados\n",
    "\n",
    "print(f'A soma dos numeros é {soma}')"
   ]
  }
 ],
 "metadata": {
  "kernelspec": {
   "display_name": "Python 3 (ipykernel)",
   "language": "python",
   "name": "python3"
  },
  "language_info": {
   "codemirror_mode": {
    "name": "ipython",
    "version": 3
   },
   "file_extension": ".py",
   "mimetype": "text/x-python",
   "name": "python",
   "nbconvert_exporter": "python",
   "pygments_lexer": "ipython3",
   "version": "3.9.7"
  }
 },
 "nbformat": 4,
 "nbformat_minor": 5
}
