{
 "cells": [
  {
   "cell_type": "code",
   "execution_count": 1,
   "id": "52f74683-8259-4469-8b5b-dde9aa0f42f0",
   "metadata": {},
   "outputs": [],
   "source": [
    "# Soma procedural"
   ]
  },
  {
   "cell_type": "code",
   "execution_count": 10,
   "id": "3653bb6c-234b-4894-a00d-d5d870b62b7b",
   "metadata": {},
   "outputs": [],
   "source": [
    "# Definicação da função de entrada\n",
    "\n",
    "def entrada_dados():\n",
    "    dados = []\n",
    "    i = 0\n",
    "    while i < 2:\n",
    "        dados.append(int(input(f\"Digite a parcela {i+1}: \")))\n",
    "        i += 1\n",
    "    return dados"
   ]
  },
  {
   "cell_type": "code",
   "execution_count": 11,
   "id": "61b27a02-6b07-4010-b5a2-feac848de173",
   "metadata": {},
   "outputs": [
    {
     "name": "stdin",
     "output_type": "stream",
     "text": [
      "Digite a parcela 1:  5\n",
      "Digite a parcela 2:  6\n"
     ]
    },
    {
     "data": {
      "text/plain": [
       "[5, 6]"
      ]
     },
     "execution_count": 11,
     "metadata": {},
     "output_type": "execute_result"
    }
   ],
   "source": [
    "entrada_dados()"
   ]
  },
  {
   "cell_type": "code",
   "execution_count": 16,
   "id": "ac51c4c6-55ff-4c83-b3e1-cb7418fd872e",
   "metadata": {},
   "outputs": [
    {
     "name": "stdin",
     "output_type": "stream",
     "text": [
      "Digite a parcela 1:  5\n",
      "Digite a parcela 2:  6\n"
     ]
    }
   ],
   "source": [
    "dados = entrada_dados()"
   ]
  },
  {
   "cell_type": "code",
   "execution_count": 22,
   "id": "86c83b9c-0238-4cd8-a4c9-dbef6bbde47d",
   "metadata": {},
   "outputs": [],
   "source": [
    "# definicação da função soma\n",
    "\n",
    "def soma(numero_1, numero_2):\n",
    "    return numero_1 + numero_2  "
   ]
  },
  {
   "cell_type": "code",
   "execution_count": 20,
   "id": "caec660a-d41b-4d9a-b3f1-199bca6267f6",
   "metadata": {},
   "outputs": [],
   "source": [
    "#função principal\n",
    "def main():\n",
    "    dados = entrada_dados\n",
    "    resultado = soma(dados[0], dados[1])\n",
    "    saida_dados(resultados)\n",
    "    "
   ]
  },
  {
   "cell_type": "code",
   "execution_count": 21,
   "id": "c60438db-3788-45e8-b326-132d3e65e21c",
   "metadata": {},
   "outputs": [
    {
     "ename": "TypeError",
     "evalue": "'function' object is not subscriptable",
     "output_type": "error",
     "traceback": [
      "\u001b[1;31m---------------------------------------------------------------------------\u001b[0m",
      "\u001b[1;31mTypeError\u001b[0m                                 Traceback (most recent call last)",
      "\u001b[1;32m~\\AppData\\Local\\Temp/ipykernel_1632/878784673.py\u001b[0m in \u001b[0;36m<module>\u001b[1;34m\u001b[0m\n\u001b[0;32m      1\u001b[0m \u001b[1;31m#execução de função principal\u001b[0m\u001b[1;33m\u001b[0m\u001b[1;33m\u001b[0m\u001b[0m\n\u001b[1;32m----> 2\u001b[1;33m \u001b[0mmain\u001b[0m\u001b[1;33m(\u001b[0m\u001b[1;33m)\u001b[0m\u001b[1;33m\u001b[0m\u001b[1;33m\u001b[0m\u001b[0m\n\u001b[0m",
      "\u001b[1;32m~\\AppData\\Local\\Temp/ipykernel_1632/610314124.py\u001b[0m in \u001b[0;36mmain\u001b[1;34m()\u001b[0m\n\u001b[0;32m      2\u001b[0m \u001b[1;32mdef\u001b[0m \u001b[0mmain\u001b[0m\u001b[1;33m(\u001b[0m\u001b[1;33m)\u001b[0m\u001b[1;33m:\u001b[0m\u001b[1;33m\u001b[0m\u001b[1;33m\u001b[0m\u001b[0m\n\u001b[0;32m      3\u001b[0m     \u001b[0mdados\u001b[0m \u001b[1;33m=\u001b[0m \u001b[0mentrada_dados\u001b[0m\u001b[1;33m\u001b[0m\u001b[1;33m\u001b[0m\u001b[0m\n\u001b[1;32m----> 4\u001b[1;33m     \u001b[0mresultado\u001b[0m \u001b[1;33m=\u001b[0m \u001b[0msoma\u001b[0m\u001b[1;33m(\u001b[0m\u001b[0mdados\u001b[0m\u001b[1;33m[\u001b[0m\u001b[1;36m0\u001b[0m\u001b[1;33m]\u001b[0m\u001b[1;33m,\u001b[0m \u001b[0mdados\u001b[0m\u001b[1;33m[\u001b[0m\u001b[1;36m1\u001b[0m\u001b[1;33m]\u001b[0m\u001b[1;33m)\u001b[0m\u001b[1;33m\u001b[0m\u001b[1;33m\u001b[0m\u001b[0m\n\u001b[0m\u001b[0;32m      5\u001b[0m     \u001b[0msaida_dados\u001b[0m\u001b[1;33m(\u001b[0m\u001b[0mresultados\u001b[0m\u001b[1;33m)\u001b[0m\u001b[1;33m\u001b[0m\u001b[1;33m\u001b[0m\u001b[0m\n\u001b[0;32m      6\u001b[0m \u001b[1;33m\u001b[0m\u001b[0m\n",
      "\u001b[1;31mTypeError\u001b[0m: 'function' object is not subscriptable"
     ]
    }
   ],
   "source": [
    "#execução de função principal\n",
    "main()"
   ]
  }
 ],
 "metadata": {
  "kernelspec": {
   "display_name": "Python 3 (ipykernel)",
   "language": "python",
   "name": "python3"
  },
  "language_info": {
   "codemirror_mode": {
    "name": "ipython",
    "version": 3
   },
   "file_extension": ".py",
   "mimetype": "text/x-python",
   "name": "python",
   "nbconvert_exporter": "python",
   "pygments_lexer": "ipython3",
   "version": "3.9.7"
  }
 },
 "nbformat": 4,
 "nbformat_minor": 5
}
