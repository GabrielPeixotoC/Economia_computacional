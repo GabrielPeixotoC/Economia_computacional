{
 "cells": [
  {
   "cell_type": "markdown",
   "id": "b1e56dce-117c-4edf-ab32-f6a476eb7a02",
   "metadata": {},
   "source": [
    "Exercício 10.1 Adicione os atributos tamanho e marca à classe Televisão. Crie\n",
    "dois objetos Televisão e atribua tamanhos e marcas diferentes. Depois, imprima o\n",
    "valor desses atributos de forma a confirmar a independência dos valores de cada\n",
    "instância (objeto)."
   ]
  },
  {
   "cell_type": "code",
   "execution_count": 10,
   "id": "b359ae0a-11e8-426b-99a4-2b9624d57fc5",
   "metadata": {},
   "outputs": [],
   "source": [
    "class Televisão:\n",
    "    def __init__(self):\n",
    "        self.ligada=False\n",
    "        self.canal=2\n",
    "        self.tamanho='50'\n",
    "        self.marca='Samsung'\n"
   ]
  },
  {
   "cell_type": "code",
   "execution_count": 11,
   "id": "2dc31443-3148-4087-9bba-04779499bb2e",
   "metadata": {},
   "outputs": [],
   "source": [
    "tv = Televisão()"
   ]
  },
  {
   "cell_type": "code",
   "execution_count": 12,
   "id": "e993d83b-596f-45a8-a839-57a27c9286a4",
   "metadata": {},
   "outputs": [
    {
     "data": {
      "text/plain": [
       "'Samsung'"
      ]
     },
     "execution_count": 12,
     "metadata": {},
     "output_type": "execute_result"
    }
   ],
   "source": [
    "tv.marca"
   ]
  },
  {
   "cell_type": "code",
   "execution_count": 13,
   "id": "eec9402c-5fbf-4af2-857a-1ccec93e1ee5",
   "metadata": {},
   "outputs": [
    {
     "data": {
      "text/plain": [
       "'50'"
      ]
     },
     "execution_count": 13,
     "metadata": {},
     "output_type": "execute_result"
    }
   ],
   "source": [
    "tv.tamanho"
   ]
  },
  {
   "cell_type": "code",
   "execution_count": 14,
   "id": "49b9de42-6614-4325-94ad-5d0977502134",
   "metadata": {},
   "outputs": [],
   "source": [
    "class Televisão:\n",
    "    def __init__(self):\n",
    "        self.ligada=False\n",
    "        self.canal=2\n",
    "        self.tamanho='50'\n",
    "        self.marca='Samsung'\n",
    "    \n",
    "    def muda_canal_para_baixo(self):\n",
    "        self.canal -= 1\n",
    "        \n",
    "    def muda_canal_para_cima(self):\n",
    "        self.canal+=1\n"
   ]
  },
  {
   "cell_type": "code",
   "execution_count": 15,
   "id": "33f2ef02-b505-4e01-ab2f-267f4c61f1af",
   "metadata": {},
   "outputs": [],
   "source": [
    "tv_quarto = Televisão()"
   ]
  },
  {
   "cell_type": "code",
   "execution_count": 16,
   "id": "fb78443b-e45d-458b-8cb0-8de5df67c94d",
   "metadata": {},
   "outputs": [
    {
     "data": {
      "text/plain": [
       "2"
      ]
     },
     "execution_count": 16,
     "metadata": {},
     "output_type": "execute_result"
    }
   ],
   "source": [
    "tv_quarto.canal"
   ]
  },
  {
   "cell_type": "code",
   "execution_count": 17,
   "id": "0b9aa810-c059-4b13-8691-dd4b53a94a55",
   "metadata": {},
   "outputs": [],
   "source": [
    "tv_quarto.muda_canal_para_cima()"
   ]
  },
  {
   "cell_type": "code",
   "execution_count": 18,
   "id": "cb453ce4-fdb8-4153-aa34-05316ac950d8",
   "metadata": {},
   "outputs": [
    {
     "data": {
      "text/plain": [
       "3"
      ]
     },
     "execution_count": 18,
     "metadata": {},
     "output_type": "execute_result"
    }
   ],
   "source": [
    "tv_quarto.canal"
   ]
  },
  {
   "cell_type": "code",
   "execution_count": null,
   "id": "7eeb57b2-3fbc-4147-a263-91825ce30ca2",
   "metadata": {},
   "outputs": [],
   "source": []
  }
 ],
 "metadata": {
  "kernelspec": {
   "display_name": "Python 3 (ipykernel)",
   "language": "python",
   "name": "python3"
  },
  "language_info": {
   "codemirror_mode": {
    "name": "ipython",
    "version": 3
   },
   "file_extension": ".py",
   "mimetype": "text/x-python",
   "name": "python",
   "nbconvert_exporter": "python",
   "pygments_lexer": "ipython3",
   "version": "3.9.7"
  }
 },
 "nbformat": 4,
 "nbformat_minor": 5
}
