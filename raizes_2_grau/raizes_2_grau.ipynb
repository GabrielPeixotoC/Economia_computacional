{
 "cells": [
  {
   "cell_type": "markdown",
   "id": "d3820a2a-4fcc-436e-ae81-c6013295151d",
   "metadata": {},
   "source": [
    "# Programa raizes_2_grau\n",
    "\n",
    "## Problema\n",
    "Fazer um programa que peça os coeficiente a, b e c de um polinômio de segundo grau e determine as raízes deste polinômio.\n"
   ]
  },
  {
   "cell_type": "code",
   "execution_count": 3,
   "id": "5e204941-572a-40d9-875d-fbcaf0e2615a",
   "metadata": {},
   "outputs": [],
   "source": [
    "#Alocação de dados\n",
    "\n",
    "a = 0\n",
    "b = 0\n",
    "c = 0\n",
    "raiz_soma = 0\n",
    "raiz_subtracao = 0"
   ]
  },
  {
   "cell_type": "code",
   "execution_count": 15,
   "id": "0c2bd075-7611-43e6-a05b-5630e6bae9ef",
   "metadata": {},
   "outputs": [
    {
     "name": "stdin",
     "output_type": "stream",
     "text": [
      "Digite o valor de a 1\n",
      "Digite o valor de b 1\n",
      "Digite o valor de c -6\n"
     ]
    }
   ],
   "source": [
    "# Entrada de dados\n",
    "\n",
    "a = float(input('Digite o valor de a'))\n",
    "b =  float(input('Digite o valor de b'))\n",
    "c =  float(input('Digite o valor de c'))"
   ]
  },
  {
   "cell_type": "code",
   "execution_count": 16,
   "id": "f7da3bc5-90fd-42e6-9a88-d5e10ba55a61",
   "metadata": {},
   "outputs": [],
   "source": [
    "# Processamento de dados\n",
    "raiz_soma = ((b*(-1)) + (b**2 - 4 * a * c)**0.5)/ (2 * a)\n",
    "raiz_subtracao = ((b*(-1)) - (b**2 - 4 * a * c)**0.5)/ (2 * a)"
   ]
  },
  {
   "cell_type": "code",
   "execution_count": 17,
   "id": "b151362a-d91f-4780-a27e-327145d451bf",
   "metadata": {},
   "outputs": [
    {
     "name": "stdout",
     "output_type": "stream",
     "text": [
      "As raízes de seu polinômio são 2.0 e -3.0.\n"
     ]
    }
   ],
   "source": [
    "# Saída de dados\n",
    "\n",
    "print(f'As raízes de seu polinômio são {raiz_soma:.2} e {raiz_subtracao:.2}.')"
   ]
  }
 ],
 "metadata": {
  "kernelspec": {
   "display_name": "Python 3 (ipykernel)",
   "language": "python",
   "name": "python3"
  },
  "language_info": {
   "codemirror_mode": {
    "name": "ipython",
    "version": 3
   },
   "file_extension": ".py",
   "mimetype": "text/x-python",
   "name": "python",
   "nbconvert_exporter": "python",
   "pygments_lexer": "ipython3",
   "version": "3.9.7"
  }
 },
 "nbformat": 4,
 "nbformat_minor": 5
}
