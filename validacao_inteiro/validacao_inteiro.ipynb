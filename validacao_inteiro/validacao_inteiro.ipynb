{
 "cells": [
  {
   "cell_type": "markdown",
   "id": "34c60a95-9b25-4cab-856a-782b483f9ef3",
   "metadata": {},
   "source": [
    "Escreva uma função para validar uma variável string. Essa função\n",
    "recebe como parâmetro a string, o número mínimo e máximo de caracteres. Retorne\n",
    "verdadeiro se o tamanho da string estiver entre os valores de máximo e mínimo,\n",
    "e falso em caso contrário.\n"
   ]
  },
  {
   "cell_type": "code",
   "execution_count": 14,
   "id": "a455dd59-227b-4dc7-9d89-9dc53be85567",
   "metadata": {},
   "outputs": [],
   "source": [
    "def validacao_str(string, minimo, maximo):\n",
    "    if len(string) > minimo and len(string) < maximo:\n",
    "        return True\n",
    "    else:\n",
    "        return False"
   ]
  }
 ],
 "metadata": {
  "kernelspec": {
   "display_name": "Python 3 (ipykernel)",
   "language": "python",
   "name": "python3"
  },
  "language_info": {
   "codemirror_mode": {
    "name": "ipython",
    "version": 3
   },
   "file_extension": ".py",
   "mimetype": "text/x-python",
   "name": "python",
   "nbconvert_exporter": "python",
   "pygments_lexer": "ipython3",
   "version": "3.9.7"
  }
 },
 "nbformat": 4,
 "nbformat_minor": 5
}
