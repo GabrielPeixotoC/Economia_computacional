{
 "cells": [
  {
   "cell_type": "markdown",
   "id": "d29cffa4-f18f-4c72-9cc4-e553733c6b04",
   "metadata": {
    "tags": []
   },
   "source": [
    "# Programa conversor de distâncias\n",
    "\n",
    "Executável: conv_dist.py"
   ]
  },
  {
   "cell_type": "markdown",
   "id": "37060c28-0bcc-4478-b41f-c0542538b467",
   "metadata": {},
   "source": [
    "## Problema\n",
    "\n",
    "Fazer um Programa que converta valor de metros para centimetros."
   ]
  },
  {
   "cell_type": "markdown",
   "id": "98e08fbe-3d6d-4163-b3c7-63553e561e97",
   "metadata": {},
   "source": [
    "## Projeto\n",
    "\n",
    "Vou usar a conversão de metros para centimetros, multiplicando por 100 cada unidade de metro."
   ]
  },
  {
   "cell_type": "code",
   "execution_count": 5,
   "id": "363f652e-3efa-4355-99f6-0ad3721778a6",
   "metadata": {},
   "outputs": [],
   "source": [
    "#Alocação de memória\n",
    "\n",
    "metros: float = 0\n",
    "centimetros: float = 0"
   ]
  },
  {
   "cell_type": "code",
   "execution_count": null,
   "id": "1fc6a959-710b-4382-bbaf-6b959e17b411",
   "metadata": {},
   "outputs": [
    {
     "name": "stdin",
     "output_type": "stream",
     "text": [
      "Digite o número em metros  125\n"
     ]
    }
   ],
   "source": [
    "#Entrada de dados\n",
    "\n",
    "metros = float(input(\"Digite o número em metros \"))"
   ]
  },
  {
   "cell_type": "code",
   "execution_count": null,
   "id": "4bb603d2-0c66-4ac3-b10e-e80358647312",
   "metadata": {},
   "outputs": [],
   "source": [
    "#Processamento de dados\n",
    "\n",
    "centimetros = metros * 100"
   ]
  },
  {
   "cell_type": "code",
   "execution_count": 15,
   "id": "c8d89b60-b852-4339-aa05-290eb56c3849",
   "metadata": {},
   "outputs": [
    {
     "name": "stdout",
     "output_type": "stream",
     "text": [
      "\n",
      " O número em centimetros é 12500.0 cm.\n"
     ]
    }
   ],
   "source": [
    "# Saída de dados\n",
    "\n",
    "print(f'\\n O número em centimetros é {centimetros} cm.')"
   ]
  }
 ],
 "metadata": {
  "kernelspec": {
   "display_name": "Python 3 (ipykernel)",
   "language": "python",
   "name": "python3"
  },
  "language_info": {
   "codemirror_mode": {
    "name": "ipython",
    "version": 3
   },
   "file_extension": ".py",
   "mimetype": "text/x-python",
   "name": "python",
   "nbconvert_exporter": "python",
   "pygments_lexer": "ipython3",
   "version": "3.9.7"
  }
 },
 "nbformat": 4,
 "nbformat_minor": 5
}
