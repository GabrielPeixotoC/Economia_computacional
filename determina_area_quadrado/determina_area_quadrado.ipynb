{
 "cells": [
  {
   "cell_type": "markdown",
   "id": "4aff2ce2-2fd2-4486-8d8c-363ce444b3dc",
   "metadata": {},
   "source": [
    "Escreva uma função que receba o lado (l) de um quadrado e retorne\n",
    "sua área (A = lado2\n",
    ")."
   ]
  },
  {
   "cell_type": "code",
   "execution_count": 1,
   "id": "4b4b1eee-a7f1-474a-bc4f-c3c95f896a10",
   "metadata": {},
   "outputs": [],
   "source": [
    "def area_quadrado(l):\n",
    "    return l**2"
   ]
  },
  {
   "cell_type": "code",
   "execution_count": 2,
   "id": "7b59286d-156a-4b87-8d50-36f63aa5e88c",
   "metadata": {},
   "outputs": [
    {
     "data": {
      "text/plain": [
       "16"
      ]
     },
     "execution_count": 2,
     "metadata": {},
     "output_type": "execute_result"
    }
   ],
   "source": [
    "area_quadrado(4)"
   ]
  }
 ],
 "metadata": {
  "kernelspec": {
   "display_name": "Python 3 (ipykernel)",
   "language": "python",
   "name": "python3"
  },
  "language_info": {
   "codemirror_mode": {
    "name": "ipython",
    "version": 3
   },
   "file_extension": ".py",
   "mimetype": "text/x-python",
   "name": "python",
   "nbconvert_exporter": "python",
   "pygments_lexer": "ipython3",
   "version": "3.9.7"
  }
 },
 "nbformat": 4,
 "nbformat_minor": 5
}
