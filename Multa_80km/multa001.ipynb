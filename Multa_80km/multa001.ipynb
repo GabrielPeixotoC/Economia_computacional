{
 "cells": [
  {
   "cell_type": "markdown",
   "id": "9385f71b-8594-4b6e-8ff4-1da5ae50dcfe",
   "metadata": {},
   "source": [
    "# Codificação do programa multa 80km/h\n",
    "\n",
    "## Requisitos\n",
    "Fazer um programa que pergunte ao usuário a sua velocidade e, se for acima de 80km/h, retorne uma multa cinco vezes o valor excedido do limite de velocidade."
   ]
  },
  {
   "cell_type": "code",
   "execution_count": 1,
   "id": "f79ec6e6-88b6-4a59-b98a-e117f06dbd25",
   "metadata": {},
   "outputs": [],
   "source": [
    "#Alocação de memória\n",
    "velocidade = 0\n",
    "velocidade_lim = 80\n",
    "multa = 0"
   ]
  },
  {
   "cell_type": "code",
   "execution_count": 6,
   "id": "77c8724f-5db4-4c12-924d-949c6ed69e35",
   "metadata": {},
   "outputs": [
    {
     "name": "stdin",
     "output_type": "stream",
     "text": [
      "Qual a velocidade do carro?  80\n"
     ]
    }
   ],
   "source": [
    "#Entrada de dados\n",
    "velocidade = float(input(\"Qual a velocidade do carro? \"))"
   ]
  },
  {
   "cell_type": "code",
   "execution_count": 8,
   "id": "e4949e24-914e-453a-b5c8-dd295ca19162",
   "metadata": {},
   "outputs": [
    {
     "name": "stdout",
     "output_type": "stream",
     "text": [
      "Parabéns, você seguiu o limite de velocidade!\n"
     ]
    }
   ],
   "source": [
    "#Processamento e saída de dados\n",
    "if velocidade > velocidade_lim:\n",
    "    multa = (velocidade - velocidade_lim) * 5\n",
    "    print(f'Voce foi multado em R${multa}.')\n",
    "else:\n",
    "    print('Parabéns, você seguiu o limite de velocidade!')"
   ]
  }
 ],
 "metadata": {
  "kernelspec": {
   "display_name": "Python 3 (ipykernel)",
   "language": "python",
   "name": "python3"
  },
  "language_info": {
   "codemirror_mode": {
    "name": "ipython",
    "version": 3
   },
   "file_extension": ".py",
   "mimetype": "text/x-python",
   "name": "python",
   "nbconvert_exporter": "python",
   "pygments_lexer": "ipython3",
   "version": "3.9.7"
  }
 },
 "nbformat": 4,
 "nbformat_minor": 5
}
