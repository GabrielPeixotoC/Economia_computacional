{
 "cells": [
  {
   "cell_type": "markdown",
   "id": "8b2ed703-5d0a-4500-8986-1d546a722e3a",
   "metadata": {},
   "source": [
    "# programa buscador_string\n",
    "\n",
    "## Problema\n",
    "Escreva um programa que leia duas strings. Verifique se a segunda\n",
    "ocorre dentro da primeira e imprima a posição de início.\n",
    "1ª string: AABBEFAATT\n",
    "2ª string: BE\n",
    "Resultado: BE encontrado na posição 3 de AABBEFAATT"
   ]
  },
  {
   "cell_type": "code",
   "execution_count": 1,
   "id": "e968d773-428d-4ab7-93aa-f0ed202c8b65",
   "metadata": {},
   "outputs": [],
   "source": [
    "# entrada de dados\n",
    "\n",
    "string_1 = 'AAABBBBEEEEEEJJJJJJ'\n",
    "string_2 = 'BE'\n",
    "posicao = 0"
   ]
  },
  {
   "cell_type": "code",
   "execution_count": 2,
   "id": "23acc023-9ffc-4c79-b0b9-0999f05ae06f",
   "metadata": {},
   "outputs": [],
   "source": [
    "# Processamento dos dados\n",
    "\n",
    "if string_2 in string_1:\n",
    "    posicao = string_1.find(string_2)\n",
    "else:\n",
    "    print('A string 2 não está dentro da string 1')"
   ]
  },
  {
   "cell_type": "code",
   "execution_count": 3,
   "id": "d3595b9b-e01c-4b51-b6fc-8a07018e611c",
   "metadata": {},
   "outputs": [
    {
     "name": "stdout",
     "output_type": "stream",
     "text": [
      "\n",
      "BE foi encontrada na posição 6 de AAABBBBEEEEEEJJJJJJ\n",
      "\n"
     ]
    }
   ],
   "source": [
    "# saída de dados\n",
    "print(f'''\n",
    "{string_2} foi encontrada na posição {posicao} de {string_1}\n",
    "''')"
   ]
  },
  {
   "cell_type": "code",
   "execution_count": null,
   "id": "9bef19c2-0454-425b-96de-5e651c9b326d",
   "metadata": {},
   "outputs": [],
   "source": []
  }
 ],
 "metadata": {
  "kernelspec": {
   "display_name": "Python 3 (ipykernel)",
   "language": "python",
   "name": "python3"
  },
  "language_info": {
   "codemirror_mode": {
    "name": "ipython",
    "version": 3
   },
   "file_extension": ".py",
   "mimetype": "text/x-python",
   "name": "python",
   "nbconvert_exporter": "python",
   "pygments_lexer": "ipython3",
   "version": "3.9.7"
  }
 },
 "nbformat": 4,
 "nbformat_minor": 5
}
