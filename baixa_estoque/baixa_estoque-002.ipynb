{
 "cells": [
  {
   "cell_type": "markdown",
   "id": "48e3b43b-51d2-4bc3-8f8c-9f4ac7e40008",
   "metadata": {},
   "source": [
    "# Programa baixa_estoque\n",
    "\n",
    "## Problema\n",
    "\n",
    "Fazer programa que leia um estoque e solicite ao usuário o produto e a quantidade vendida. Verifique se o nome do produto digitado existe no dicionário, e só então efetue a baixa em estoque."
   ]
  },
  {
   "cell_type": "code",
   "execution_count": 8,
   "id": "6cf303a2-9e92-48ca-8f47-dab42b130d83",
   "metadata": {},
   "outputs": [],
   "source": [
    "# Alocação de dados\n",
    "\n",
    "estoque={ \"tomate\": [ 1000],\n",
    " \"alface\": [ 500],\n",
    " \"batata\": [ 2001],\n",
    " \"feijão\": [ 100] }\n",
    "produto = 0\n",
    "quantidade = 0"
   ]
  },
  {
   "cell_type": "code",
   "execution_count": 9,
   "id": "7ac5f65d-911b-4fe1-9a3e-5b04e547b3bb",
   "metadata": {},
   "outputs": [
    {
     "name": "stdin",
     "output_type": "stream",
     "text": [
      " Qual foi o produto adquirido?  limão\n",
      "Qual foi a quantidade comprada?  100\n"
     ]
    }
   ],
   "source": [
    "# Entrada de dados\n",
    "\n",
    "produto = input(' Qual foi o produto adquirido? ')\n",
    "quantidade = float(input('Qual foi a quantidade comprada? '))"
   ]
  },
  {
   "cell_type": "code",
   "execution_count": 14,
   "id": "c96bca09-e4f2-4c51-b081-8b4eba02dd0e",
   "metadata": {},
   "outputs": [
    {
     "name": "stdout",
     "output_type": "stream",
     "text": [
      "\n",
      "    O produto não está em nosso estoque.\n",
      "    Possuímos em nosso estoque os seguintes produtos: ['tomate', 'alface', 'batata'] e feijão.\n",
      "    \n"
     ]
    }
   ],
   "source": [
    "# Processamento e saída de dados\n",
    "if produto in estoque:\n",
    "    estoque[produto] = estoque[produto][0]-quantidade\n",
    "    print(f'''\n",
    "    Nossos estoque foram atualizados.\n",
    "    Agora possuímos em nossos estoques {estoque[produto]} de {produto}.\n",
    "    ''')\n",
    "else:\n",
    "    print(f'''\n",
    "    O produto não está em nosso estoque.\n",
    "    Possuímos em nosso estoque os seguintes produtos: {list(estoque.keys())[:-1]} e {list(estoque.keys())[-1]}.\n",
    "    ''')"
   ]
  }
 ],
 "metadata": {
  "kernelspec": {
   "display_name": "Python 3 (ipykernel)",
   "language": "python",
   "name": "python3"
  },
  "language_info": {
   "codemirror_mode": {
    "name": "ipython",
    "version": 3
   },
   "file_extension": ".py",
   "mimetype": "text/x-python",
   "name": "python",
   "nbconvert_exporter": "python",
   "pygments_lexer": "ipython3",
   "version": "3.9.7"
  }
 },
 "nbformat": 4,
 "nbformat_minor": 5
}
