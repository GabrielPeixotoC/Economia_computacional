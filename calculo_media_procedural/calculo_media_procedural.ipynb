{
 "cells": [
  {
   "cell_type": "markdown",
   "id": "117c81d0-16bc-42c6-8388-a2b3533b988c",
   "metadata": {},
   "source": [
    "# Calculo da média em programa calculo_media_procedural\n"
   ]
  },
  {
   "cell_type": "code",
   "execution_count": 31,
   "id": "4dd197a4-690f-4bd3-8148-223a16560047",
   "metadata": {},
   "outputs": [],
   "source": [
    "def entrada_dados():\n",
    "    '''Pega 4 números digitados pelo usuário'''\n",
    "    dados =[]\n",
    "    indice = 1\n",
    "    for i in range(0, 4):\n",
    "        dado = float(input(f'Digite o {indice}º número: '))\n",
    "        dados.append(dado)\n",
    "        indice +=1      \n",
    "    return dados"
   ]
  },
  {
   "cell_type": "code",
   "execution_count": 32,
   "id": "88b76f29-97dd-4951-bc7b-625d1383d895",
   "metadata": {},
   "outputs": [],
   "source": [
    "def calculo_media(numeros):\n",
    "    '''Função calcula a média de uma serie de números em uma lista'''\n",
    "    soma = 0\n",
    "    for numero in numeros:\n",
    "        soma = numero + soma\n",
    "    tamanho = len(numeros)\n",
    "    media = soma/tamanho\n",
    "    return media"
   ]
  },
  {
   "cell_type": "code",
   "execution_count": 33,
   "id": "1682dd3b-6667-43e8-a9ad-3d66ab59484e",
   "metadata": {},
   "outputs": [],
   "source": [
    "def imprimir_media(media):\n",
    "    '''Imprime na tela a média fornecida'''\n",
    "    print(f'A média dos 4 números é {media}')"
   ]
  },
  {
   "cell_type": "code",
   "execution_count": 34,
   "id": "25d8c944-e301-4c03-99bb-40ae021e787a",
   "metadata": {},
   "outputs": [],
   "source": [
    "def main():\n",
    "    entrada = entrada_dados()\n",
    "    media = calculo_media(entrada)\n",
    "    imprimir_media(media)"
   ]
  },
  {
   "cell_type": "code",
   "execution_count": 35,
   "id": "c5afcfc4-3953-4fa3-a22b-47811e98d80c",
   "metadata": {},
   "outputs": [
    {
     "name": "stdin",
     "output_type": "stream",
     "text": [
      "Digite o 1º número:  4\n",
      "Digite o 2º número:  5\n",
      "Digite o 3º número:  6\n",
      "Digite o 4º número:  7\n"
     ]
    },
    {
     "name": "stdout",
     "output_type": "stream",
     "text": [
      "A média dos 4 números é 5.5\n"
     ]
    }
   ],
   "source": [
    "main()"
   ]
  },
  {
   "cell_type": "code",
   "execution_count": null,
   "id": "eae4d7f7-8319-449a-b995-269c84bce8b0",
   "metadata": {},
   "outputs": [],
   "source": []
  }
 ],
 "metadata": {
  "kernelspec": {
   "display_name": "Python 3 (ipykernel)",
   "language": "python",
   "name": "python3"
  },
  "language_info": {
   "codemirror_mode": {
    "name": "ipython",
    "version": 3
   },
   "file_extension": ".py",
   "mimetype": "text/x-python",
   "name": "python",
   "nbconvert_exporter": "python",
   "pygments_lexer": "ipython3",
   "version": "3.9.7"
  }
 },
 "nbformat": 4,
 "nbformat_minor": 5
}
