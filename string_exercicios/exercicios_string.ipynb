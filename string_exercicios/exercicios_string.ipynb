{
 "cells": [
  {
   "cell_type": "code",
   "execution_count": 1,
   "id": "f729c966-8e99-4303-954e-5010bbec0669",
   "metadata": {},
   "outputs": [
    {
     "name": "stdout",
     "output_type": "stream",
     "text": [
      "Os elementos comuns são Glsl\n"
     ]
    }
   ],
   "source": [
    "'''\n",
    "Exercício 7.2 Escreva um programa que leia duas strings e gere uma terceira com\n",
    "os caracteres comuns às duas strings lidas.\n",
    "1ª string: AAACTBF\n",
    "2ª string: CBT\n",
    "Resultado: CBT\n",
    "A ordem dos caracteres da string gerada não é importante, mas deve conter todas\n",
    "as letras comuns a ambas.\n",
    "'''\n",
    "\n",
    "string1 = 'Grêmio é o maior clube do sul'\n",
    "string2 ='Gsl'\n",
    "comum = []\n",
    "for i in string1:\n",
    "    if i in string2:\n",
    "        comum.append(i)\n",
    "        \n",
    "comum = ''.join(comum)\n",
    "\n",
    "print(f'Os elementos comuns são {comum}')\n"
   ]
  },
  {
   "cell_type": "code",
   "execution_count": 3,
   "id": "713bfbbc-be23-46f8-a859-8bfa28ecec33",
   "metadata": {},
   "outputs": [
    {
     "name": "stdout",
     "output_type": "stream",
     "text": [
      "Os elementos únicos são ['r', 'ê', 'm', 'i', 'o', ' ', 'é', ' ', 'o', ' ', 'm', 'a', 'i', 'o', 'r', ' ', 'c', 'u', 'b', 'e', ' ', 'd', 'o', ' ', 'u']\n"
     ]
    }
   ],
   "source": [
    "'''\n",
    "Exercício 7.3 Escreva um programa que leia duas strings e gere uma terceira apenas\n",
    "com os caracteres que aparecem em uma delas.\n",
    "1ª string: CTA\n",
    "2ª string: ABC\n",
    "3ª string: BT\n",
    "A ordem dos caracteres da terceira string não é importante.\n",
    "'''\n",
    "\n",
    "string1 = 'Grêmio é o maior clube do sul'\n",
    "string2 ='Gsl'\n",
    "comum = []\n",
    "for i in string1:\n",
    "    if i not in string2:\n",
    "        comum.append(i)\n",
    "        \n",
    "print(f'Os elementos únicos são {comum}')\n"
   ]
  },
  {
   "cell_type": "code",
   "execution_count": 18,
   "id": "2117feca-3652-4e57-8f89-bf0971e20dd6",
   "metadata": {},
   "outputs": [
    {
     "name": "stdout",
     "output_type": "stream",
     "text": [
      "L:3\n",
      "M:1\n",
      "C:5\n"
     ]
    }
   ],
   "source": [
    "'''\n",
    "Exercício 7.4 Escreva um programa que leia uma string e imprima quantas vezes\n",
    "cada caractere aparece nessa string.\n",
    "String: TTAAC\n",
    "Resultado:\n",
    "T: 2x\n",
    "A: 2x\n",
    "C: 1x\n",
    "'''\n",
    "\n",
    "frase = 'LLLCCCCCM'\n",
    "lista = []\n",
    "\n",
    "for letra in frase:\n",
    "    lista.append(letra)\n",
    "\n",
    "lista_distinta = set(lista)\n",
    "\n",
    "for elemento in lista_distinta:\n",
    "    print(f'{elemento}:{frase.count(elemento)}')\n",
    "    "
   ]
  },
  {
   "cell_type": "code",
   "execution_count": null,
   "id": "0d58bd81-8dd9-43e4-9660-9135eb817e09",
   "metadata": {},
   "outputs": [],
   "source": [
    "'''\n",
    "Exercício 7.5 Escreva um programa que leia duas strings e gere uma terceira, na\n",
    "qual os caracteres da segunda foram retirados da primeira.\n",
    "1ª string: AATTGGAA\n",
    "2ª string: TG\n",
    "3ª string: AAAA\n",
    "'''\n",
    "\n"
   ]
  }
 ],
 "metadata": {
  "kernelspec": {
   "display_name": "Python 3 (ipykernel)",
   "language": "python",
   "name": "python3"
  },
  "language_info": {
   "codemirror_mode": {
    "name": "ipython",
    "version": 3
   },
   "file_extension": ".py",
   "mimetype": "text/x-python",
   "name": "python",
   "nbconvert_exporter": "python",
   "pygments_lexer": "ipython3",
   "version": "3.9.7"
  }
 },
 "nbformat": 4,
 "nbformat_minor": 5
}
