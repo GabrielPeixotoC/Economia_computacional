{
 "cells": [
  {
   "cell_type": "markdown",
   "id": "f75ea549-d376-47fe-bb43-978abfbc7442",
   "metadata": {},
   "source": [
    "# Programa Leitura_de_Listas\n",
    "\n",
    "# Problema\n",
    "Fazer um programa que leia duas listas e que gere uma terceira com os elementos das duas primeiras."
   ]
  },
  {
   "cell_type": "code",
   "execution_count": 32,
   "id": "610d2d62-e6f5-46fa-9876-0010e5fe7ad9",
   "metadata": {},
   "outputs": [],
   "source": [
    "#Alocação de memória\n",
    "\n",
    "lista_1 = []\n",
    "lista_2 = []\n",
    "lista_uniao = []"
   ]
  },
  {
   "cell_type": "code",
   "execution_count": 33,
   "id": "c6d0a703-3c83-4817-9718-35f3740b86ab",
   "metadata": {},
   "outputs": [],
   "source": [
    "#processamento dos dados\n",
    "\n",
    "lista_1 = ['g','a','b']\n",
    "lista_2 = ['r','i','e','l']\n",
    "lista_uniao = lista_1 + lista_2"
   ]
  },
  {
   "cell_type": "code",
   "execution_count": 34,
   "id": "cc43cad9-7484-4634-bc32-d07fb055e5b6",
   "metadata": {},
   "outputs": [
    {
     "name": "stdout",
     "output_type": "stream",
     "text": [
      "\n",
      "A união das listas 1 e 2 é :['g', 'a', 'b', 'r', 'i', 'e', 'l']\n",
      "\n"
     ]
    }
   ],
   "source": [
    "# Saída dos dados\n",
    "\n",
    "print(f'''\n",
    "A união das listas 1 e 2 é :{lista_uniao}\n",
    "'''\n",
    ")"
   ]
  }
 ],
 "metadata": {
  "kernelspec": {
   "display_name": "Python 3 (ipykernel)",
   "language": "python",
   "name": "python3"
  },
  "language_info": {
   "codemirror_mode": {
    "name": "ipython",
    "version": 3
   },
   "file_extension": ".py",
   "mimetype": "text/x-python",
   "name": "python",
   "nbconvert_exporter": "python",
   "pygments_lexer": "ipython3",
   "version": "3.9.7"
  }
 },
 "nbformat": 4,
 "nbformat_minor": 5
}
