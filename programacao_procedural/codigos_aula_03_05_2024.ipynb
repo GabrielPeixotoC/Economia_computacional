{
 "cells": [
  {
   "cell_type": "markdown",
   "id": "ea00777b-c55f-4ad6-a79b-151a6e5ac530",
   "metadata": {},
   "source": [
    "# Programação procedural"
   ]
  },
  {
   "cell_type": "code",
   "execution_count": 1,
   "id": "c9649ab6-1cea-40d1-9c40-746eda74cc3f",
   "metadata": {},
   "outputs": [],
   "source": [
    "# Listagem 1:  definição da função Python soma (função pura).\n",
    "\n",
    "def soma(x, y):\n",
    "    resultado = x + y\n",
    "    return resultado"
   ]
  },
  {
   "cell_type": "code",
   "execution_count": 2,
   "id": "bc792041-9d5e-474a-bdfe-a4f5eb84a027",
   "metadata": {},
   "outputs": [
    {
     "data": {
      "text/plain": [
       "5"
      ]
     },
     "execution_count": 2,
     "metadata": {},
     "output_type": "execute_result"
    }
   ],
   "source": [
    "soma(2, 3)"
   ]
  },
  {
   "cell_type": "code",
   "execution_count": 4,
   "id": "8f3e98c4-bcdc-43c1-b0dc-a71eb0a83045",
   "metadata": {},
   "outputs": [],
   "source": [
    "# Listagem 2: definição da função python imprimidora7 (procedimento)\n",
    "\n",
    "def imprimidora7():\n",
    "    print(7)"
   ]
  },
  {
   "cell_type": "code",
   "execution_count": 5,
   "id": "6b78e7a3-fc9b-4828-a024-70c86cab0045",
   "metadata": {},
   "outputs": [
    {
     "name": "stdout",
     "output_type": "stream",
     "text": [
      "7\n"
     ]
    }
   ],
   "source": [
    "imprimidora7()"
   ]
  },
  {
   "cell_type": "code",
   "execution_count": 6,
   "id": "f1623d02-f33d-4a95-9f4b-d1d2ea86fae3",
   "metadata": {},
   "outputs": [],
   "source": [
    "# Listagem 3: definição da função Python importador numpy (procedimento).\n",
    "\n",
    "def importador_numpy():\n",
    "    import numpy"
   ]
  },
  {
   "cell_type": "code",
   "execution_count": 7,
   "id": "72b89de1-4562-442c-a916-2e5a559ce40f",
   "metadata": {},
   "outputs": [],
   "source": [
    "importador_numpy()"
   ]
  },
  {
   "cell_type": "code",
   "execution_count": 8,
   "id": "c6f22ea8-6b04-4b43-86cb-acf868190e06",
   "metadata": {},
   "outputs": [],
   "source": [
    "# Listagem 4: definição da função python inutil (procedimento)\n",
    "\n",
    "def inutil():\n",
    "    2 + 3\n",
    "    4 + 5\n",
    "    23 + 56"
   ]
  },
  {
   "cell_type": "code",
   "execution_count": 9,
   "id": "1f318acb-cfb1-41be-af32-513d0ef097cd",
   "metadata": {},
   "outputs": [],
   "source": [
    "inutil()"
   ]
  },
  {
   "cell_type": "code",
   "execution_count": 20,
   "id": "fbf19db1-3fc3-42c1-b962-2fc25a21553b",
   "metadata": {},
   "outputs": [],
   "source": [
    "# listagem 5 definição da função python imprimidora_com\n",
    "\n",
    "x = 7\n",
    "def imprimidora():\n",
    "    return x"
   ]
  },
  {
   "cell_type": "code",
   "execution_count": 21,
   "id": "fa25e936-aef1-4d74-b598-0d98456eed71",
   "metadata": {},
   "outputs": [
    {
     "data": {
      "text/plain": [
       "7"
      ]
     },
     "execution_count": 21,
     "metadata": {},
     "output_type": "execute_result"
    }
   ],
   "source": [
    "imprimidora()"
   ]
  },
  {
   "cell_type": "code",
   "execution_count": 22,
   "id": "5c87f10b-0339-4b62-85dd-0023794ddef4",
   "metadata": {},
   "outputs": [],
   "source": [
    "x=77"
   ]
  },
  {
   "cell_type": "code",
   "execution_count": 23,
   "id": "4e62f714-e654-42b5-b4d3-d5e011c93296",
   "metadata": {},
   "outputs": [
    {
     "data": {
      "text/plain": [
       "77"
      ]
     },
     "execution_count": 23,
     "metadata": {},
     "output_type": "execute_result"
    }
   ],
   "source": [
    "imprimidora()"
   ]
  },
  {
   "cell_type": "code",
   "execution_count": 26,
   "id": "09ce0362-b78c-4e77-ad1d-77603b437b07",
   "metadata": {},
   "outputs": [],
   "source": [
    "# Listagem 6 função somaproduto((x, y), (z, w))\n",
    "\n",
    "def somaproduto(x,y,z,w):\n",
    "    resultado = x*z + y*w\n",
    "    return resultado"
   ]
  },
  {
   "cell_type": "markdown",
   "id": "6a82a99e-a766-40dd-8e49-b670887f6e44",
   "metadata": {
    "tags": []
   },
   "source": [
    "# Exemplos de uso da função soma produtos\n",
    "\n"
   ]
  },
  {
   "cell_type": "markdown",
   "id": "96299ba5-9526-4db4-82b2-ca4009801617",
   "metadata": {},
   "source": [
    "### 1. Considere os vetores (1,3) e (4,5). Determine seu produto escalar."
   ]
  },
  {
   "cell_type": "code",
   "execution_count": 28,
   "id": "982f57aa-b998-49a3-87a1-59cf903bfce4",
   "metadata": {},
   "outputs": [
    {
     "data": {
      "text/plain": [
       "19"
      ]
     },
     "execution_count": 28,
     "metadata": {},
     "output_type": "execute_result"
    }
   ],
   "source": [
    "somaproduto(1, 3, 4, 5)"
   ]
  },
  {
   "cell_type": "markdown",
   "id": "bb61febf-3aa5-4b3e-a396-6b16e6d2fe1c",
   "metadata": {
    "tags": []
   },
   "source": [
    "### Suponha um indivíduo que adquiriu uma cesta de consumo (1, 3) aos preços p1 = 4 e p2 = 5. Determine a despesa do indivíduo"
   ]
  },
  {
   "cell_type": "code",
   "execution_count": 30,
   "id": "09cfaf5f-22e1-48d7-ac2c-2821481de837",
   "metadata": {},
   "outputs": [
    {
     "data": {
      "text/plain": [
       "19"
      ]
     },
     "execution_count": 30,
     "metadata": {},
     "output_type": "execute_result"
    }
   ],
   "source": [
    "somaproduto(1, 3, 4, 5)"
   ]
  },
  {
   "cell_type": "code",
   "execution_count": 44,
   "id": "2f2ab9fc-b465-4d33-bb8f-8e3d6b51d2a2",
   "metadata": {},
   "outputs": [],
   "source": [
    "# listagem 7: função entrada_dados()\n",
    "\n",
    "def entrada_global():\n",
    "    global dados\n",
    "    casa = 7 # Esta variável tem escopo local\n",
    "    dados = input('QUal o dado: ')"
   ]
  },
  {
   "cell_type": "code",
   "execution_count": 45,
   "id": "d098ff00-ad4b-4759-937b-d0bdab7555b4",
   "metadata": {},
   "outputs": [
    {
     "name": "stdin",
     "output_type": "stream",
     "text": [
      "QUal o dado:  22\n"
     ]
    }
   ],
   "source": [
    "entrada_global()"
   ]
  },
  {
   "cell_type": "code",
   "execution_count": 46,
   "id": "3d03b3d2-dc6b-480e-af5e-0ab66a0ffceb",
   "metadata": {},
   "outputs": [
    {
     "data": {
      "text/plain": [
       "'22'"
      ]
     },
     "execution_count": 46,
     "metadata": {},
     "output_type": "execute_result"
    }
   ],
   "source": [
    "dados"
   ]
  },
  {
   "cell_type": "code",
   "execution_count": 47,
   "id": "24f05811-2639-4302-8d89-2f98f8df0e8c",
   "metadata": {},
   "outputs": [
    {
     "ename": "NameError",
     "evalue": "name 'casa' is not defined",
     "output_type": "error",
     "traceback": [
      "\u001b[1;31m---------------------------------------------------------------------------\u001b[0m",
      "\u001b[1;31mNameError\u001b[0m                                 Traceback (most recent call last)",
      "\u001b[1;32m~\\AppData\\Local\\Temp/ipykernel_12032/2549462758.py\u001b[0m in \u001b[0;36m<module>\u001b[1;34m\u001b[0m\n\u001b[1;32m----> 1\u001b[1;33m \u001b[0mcasa\u001b[0m\u001b[1;33m\u001b[0m\u001b[1;33m\u001b[0m\u001b[0m\n\u001b[0m",
      "\u001b[1;31mNameError\u001b[0m: name 'casa' is not defined"
     ]
    }
   ],
   "source": [
    "casa"
   ]
  },
  {
   "cell_type": "markdown",
   "id": "2396ed37-f8f8-4ed2-8f3e-8ba158a7e2a0",
   "metadata": {
    "tags": []
   },
   "source": [
    "## escopo local da função\n",
    "\n",
    "escopo local da função é tudo aquilo que está dentro do seu codigo ou no seu parametro. existem basicamente dois escopos:\n",
    "-local, 0\n",
    "-global"
   ]
  },
  {
   "cell_type": "code",
   "execution_count": null,
   "id": "978819d6-6923-4884-b5d2-3a3a5f66752c",
   "metadata": {},
   "outputs": [],
   "source": []
  }
 ],
 "metadata": {
  "kernelspec": {
   "display_name": "Python 3 (ipykernel)",
   "language": "python",
   "name": "python3"
  },
  "language_info": {
   "codemirror_mode": {
    "name": "ipython",
    "version": 3
   },
   "file_extension": ".py",
   "mimetype": "text/x-python",
   "name": "python",
   "nbconvert_exporter": "python",
   "pygments_lexer": "ipython3",
   "version": "3.9.7"
  }
 },
 "nbformat": 4,
 "nbformat_minor": 5
}
