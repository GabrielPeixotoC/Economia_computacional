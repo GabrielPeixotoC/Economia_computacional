{
 "cells": [
  {
   "cell_type": "markdown",
   "id": "ff763720-1930-4d11-8ec7-3dc96542aec5",
   "metadata": {},
   "source": [
    "# Paradigma Sequencial"
   ]
  },
  {
   "cell_type": "code",
   "execution_count": 7,
   "id": "b6ebefdc-be1d-4664-b3ba-d5bc331f07bd",
   "metadata": {},
   "outputs": [
    {
     "name": "stdin",
     "output_type": "stream",
     "text": [
      "Informe o primeiro número 2\n",
      "Informe o segundo número 2\n"
     ]
    },
    {
     "name": "stdout",
     "output_type": "stream",
     "text": [
      "A soma dos números é igual a: 4\n"
     ]
    }
   ],
   "source": [
    "# Entrada de dados\n",
    "x = int(input('Informe o primeiro número'))\n",
    "y = int(input('Informe o segundo número'))\n",
    "\n",
    "# processamento de dados\n",
    "soma = x + y\n",
    "\n",
    "# Saída de dados\n",
    "print('A soma dos números é igual a:', soma)"
   ]
  },
  {
   "cell_type": "markdown",
   "id": "ecae0812-b824-48ff-810c-8e5535dcc6d6",
   "metadata": {},
   "source": [
    "# Paradigma Estruturado"
   ]
  },
  {
   "cell_type": "code",
   "execution_count": 6,
   "id": "94202c18-7596-45bf-b1b8-710904b7a8dd",
   "metadata": {},
   "outputs": [
    {
     "name": "stdin",
     "output_type": "stream",
     "text": [
      "Qual a parcela 1. 2\n",
      "Qual a parcela 2. 2\n"
     ]
    }
   ],
   "source": [
    "# Define objetos\n",
    "i = 0\n",
    "numeros = [0, 0]\n",
    "soma = 0\n",
    "\n",
    "# Entrada de dados\n",
    "while i < 2:\n",
    "    numeros[i] = int(input(f'Qual a parcela {i+1}.'))\n",
    "    i+=1\n",
    "\n",
    "# Processamento de dados"
   ]
  },
  {
   "cell_type": "code",
   "execution_count": null,
   "id": "5044269c-2aec-4398-bdb3-942c26e7f50c",
   "metadata": {},
   "outputs": [],
   "source": []
  }
 ],
 "metadata": {
  "kernelspec": {
   "display_name": "Python 3 (ipykernel)",
   "language": "python",
   "name": "python3"
  },
  "language_info": {
   "codemirror_mode": {
    "name": "ipython",
    "version": 3
   },
   "file_extension": ".py",
   "mimetype": "text/x-python",
   "name": "python",
   "nbconvert_exporter": "python",
   "pygments_lexer": "ipython3",
   "version": "3.9.7"
  }
 },
 "nbformat": 4,
 "nbformat_minor": 5
}
