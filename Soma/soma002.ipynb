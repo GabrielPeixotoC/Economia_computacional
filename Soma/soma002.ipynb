{
 "cells": [
  {
   "cell_type": "markdown",
   "id": "a52e06f3-7dc2-4e77-a315-3286a1db3c1c",
   "metadata": {
    "tags": []
   },
   "source": [
    "# Codificação do programa soma\n",
    "\n",
    "\n",
    "## Requisitos\n",
    "Fazer um programa que peça dois números interios digitados pelo usuário e ponha na tela a soma deles\n"
   ]
  },
  {
   "cell_type": "code",
   "execution_count": 12,
   "id": "d22bc762-fd01-48b1-9308-912345c94eb7",
   "metadata": {},
   "outputs": [
    {
     "name": "stdin",
     "output_type": "stream",
     "text": [
      "Digite o primeiro número 1:  1\n",
      "Digite o primeiro número 2:  2\n"
     ]
    },
    {
     "name": "stdout",
     "output_type": "stream",
     "text": [
      "A soma dos números digitados é igual a 3!\n"
     ]
    }
   ],
   "source": [
    "# Alocação de memória\n",
    "\n",
    "i: int = 0\n",
    "numero: int = 0\n",
    "soma: int = 0\n",
    "\n",
    "\n",
    "# Entrada e processamento de dados\n",
    "\n",
    "while i < 2:\n",
    "    numero = int(input(f\"Digite o primeiro número {i+1}: \"))\n",
    "    soma += numero\n",
    "    i += 1\n",
    "\n",
    "# Saída de dados\n",
    "\n",
    "print(f\"A soma dos números digitados é igual a {soma}!\")"
   ]
  },
  {
   "cell_type": "code",
   "execution_count": null,
   "id": "c38e7b11-a061-4bb1-ad04-0da08df3e155",
   "metadata": {},
   "outputs": [],
   "source": []
  }
 ],
 "metadata": {
  "kernelspec": {
   "display_name": "Python 3 (ipykernel)",
   "language": "python",
   "name": "python3"
  },
  "language_info": {
   "codemirror_mode": {
    "name": "ipython",
    "version": 3
   },
   "file_extension": ".py",
   "mimetype": "text/x-python",
   "name": "python",
   "nbconvert_exporter": "python",
   "pygments_lexer": "ipython3",
   "version": "3.9.7"
  }
 },
 "nbformat": 4,
 "nbformat_minor": 5
}
