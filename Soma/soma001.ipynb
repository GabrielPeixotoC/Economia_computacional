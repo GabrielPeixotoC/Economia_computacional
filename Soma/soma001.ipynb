{
 "cells": [
  {
   "cell_type": "markdown",
   "id": "a52e06f3-7dc2-4e77-a315-3286a1db3c1c",
   "metadata": {
    "tags": []
   },
   "source": [
    "# Codificação do programa soma\n",
    "\n",
    "\n",
    "## Requisitos\n",
    "Fazer um programa que peça dois números interios digitados pelo usuário e ponha na tela a soma deles\n"
   ]
  },
  {
   "cell_type": "code",
   "execution_count": 11,
   "id": "d22bc762-fd01-48b1-9308-912345c94eb7",
   "metadata": {},
   "outputs": [
    {
     "name": "stdin",
     "output_type": "stream",
     "text": [
      "Digite o primeiro número 8\n",
      "Digite o segundo número 2\n"
     ]
    },
    {
     "name": "stdout",
     "output_type": "stream",
     "text": [
      "10\n"
     ]
    }
   ],
   "source": [
    "# Alocação de memória\n",
    "\n",
    "numero_1: int = 0\n",
    "numero_2: int = 0\n",
    "soma: int = 0\n",
    "\n",
    "\n",
    "# Entrada de dados\n",
    "\n",
    "numero_1 = int(input('Digite o primeiro número'))\n",
    "numero_2 = int(input('Digite o segundo número'))\n",
    "\n",
    "\n",
    "# Processamento de dados\n",
    "\n",
    "soma = numero_1+numero_2\n",
    "\n",
    "# Saída de dados\n",
    "\n",
    "print(soma)"
   ]
  }
 ],
 "metadata": {
  "kernelspec": {
   "display_name": "Python 3 (ipykernel)",
   "language": "python",
   "name": "python3"
  },
  "language_info": {
   "codemirror_mode": {
    "name": "ipython",
    "version": 3
   },
   "file_extension": ".py",
   "mimetype": "text/x-python",
   "name": "python",
   "nbconvert_exporter": "python",
   "pygments_lexer": "ipython3",
   "version": "3.9.7"
  }
 },
 "nbformat": 4,
 "nbformat_minor": 5
}
