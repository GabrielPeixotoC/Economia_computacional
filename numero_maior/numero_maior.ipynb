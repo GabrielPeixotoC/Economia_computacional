{
 "cells": [
  {
   "cell_type": "markdown",
   "id": "f46e8ba6-3e76-40da-a02f-22d0870f3b22",
   "metadata": {},
   "source": [
    "Escreva uma função que retorne o maior de dois números.\n",
    "Valores esperados:"
   ]
  },
  {
   "cell_type": "code",
   "execution_count": 1,
   "id": "d96b9152-dee7-4e02-8eeb-aeee1cf8ea41",
   "metadata": {},
   "outputs": [],
   "source": [
    "def num_maior(a, b):\n",
    "    '''Essa função retorna o maior de dois números.'''\n",
    "    if a > b:\n",
    "        return f'O número {a} é o maior!'\n",
    "    if a < b:\n",
    "        return f'O número {b} é o maior!'\n",
    "    if a == b:\n",
    "        return 'Os números são iguais'"
   ]
  },
  {
   "cell_type": "code",
   "execution_count": 2,
   "id": "afef4d1e-0d24-4e45-9694-2336f9dc2fb0",
   "metadata": {},
   "outputs": [
    {
     "data": {
      "text/plain": [
       "'O número 88 é o maior!'"
      ]
     },
     "execution_count": 2,
     "metadata": {},
     "output_type": "execute_result"
    }
   ],
   "source": [
    "num_maior(88, 9)"
   ]
  },
  {
   "cell_type": "code",
   "execution_count": 3,
   "id": "81b476d0-ffbd-4d1a-a906-d6975155b101",
   "metadata": {},
   "outputs": [
    {
     "data": {
      "text/plain": [
       "'O número 1 é o maior!'"
      ]
     },
     "execution_count": 3,
     "metadata": {},
     "output_type": "execute_result"
    }
   ],
   "source": [
    "num_maior(0.2, 1)"
   ]
  },
  {
   "cell_type": "code",
   "execution_count": 4,
   "id": "d61bbbf6-5c0c-44a8-9851-bc9a45235832",
   "metadata": {},
   "outputs": [
    {
     "data": {
      "text/plain": [
       "'Os número são iguais'"
      ]
     },
     "execution_count": 4,
     "metadata": {},
     "output_type": "execute_result"
    }
   ],
   "source": [
    "num_maior(10, 10)"
   ]
  },
  {
   "cell_type": "code",
   "execution_count": null,
   "id": "6450eeda-8ca6-40f4-b4aa-83f135c3bfcf",
   "metadata": {},
   "outputs": [],
   "source": []
  }
 ],
 "metadata": {
  "kernelspec": {
   "display_name": "Python 3 (ipykernel)",
   "language": "python",
   "name": "python3"
  },
  "language_info": {
   "codemirror_mode": {
    "name": "ipython",
    "version": 3
   },
   "file_extension": ".py",
   "mimetype": "text/x-python",
   "name": "python",
   "nbconvert_exporter": "python",
   "pygments_lexer": "ipython3",
   "version": "3.9.7"
  }
 },
 "nbformat": 4,
 "nbformat_minor": 5
}
