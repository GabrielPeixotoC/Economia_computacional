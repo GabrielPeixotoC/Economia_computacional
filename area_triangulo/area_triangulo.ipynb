{
 "cells": [
  {
   "cell_type": "markdown",
   "id": "5aed9397-e35c-45ff-9d76-ec2199a05fb1",
   "metadata": {},
   "source": [
    "Escreva uma função que receba a base e a altura de um triângulo e\n",
    "retorne sua área (A = (base x altura)/2)."
   ]
  },
  {
   "cell_type": "code",
   "execution_count": 1,
   "id": "b52d9b37-94b6-41b9-a208-990a76e7738f",
   "metadata": {},
   "outputs": [],
   "source": [
    "def area_triangulo(b, a):\n",
    "    return b *a /2"
   ]
  },
  {
   "cell_type": "code",
   "execution_count": 2,
   "id": "529abf80-0fa3-4f70-a51d-a1ffa3f10f85",
   "metadata": {},
   "outputs": [
    {
     "data": {
      "text/plain": [
       "27.0"
      ]
     },
     "execution_count": 2,
     "metadata": {},
     "output_type": "execute_result"
    }
   ],
   "source": [
    "area_triangulo(6,9)"
   ]
  },
  {
   "cell_type": "code",
   "execution_count": 3,
   "id": "3765a76e-6d65-4154-8374-6cd38dbf1af9",
   "metadata": {},
   "outputs": [
    {
     "data": {
      "text/plain": [
       "20.0"
      ]
     },
     "execution_count": 3,
     "metadata": {},
     "output_type": "execute_result"
    }
   ],
   "source": [
    "area_triangulo(5, 8)"
   ]
  },
  {
   "cell_type": "code",
   "execution_count": null,
   "id": "b49f6757-5f0c-49e3-aadc-f12049a1d0a7",
   "metadata": {},
   "outputs": [],
   "source": []
  }
 ],
 "metadata": {
  "kernelspec": {
   "display_name": "Python 3 (ipykernel)",
   "language": "python",
   "name": "python3"
  },
  "language_info": {
   "codemirror_mode": {
    "name": "ipython",
    "version": 3
   },
   "file_extension": ".py",
   "mimetype": "text/x-python",
   "name": "python",
   "nbconvert_exporter": "python",
   "pygments_lexer": "ipython3",
   "version": "3.9.7"
  }
 },
 "nbformat": 4,
 "nbformat_minor": 5
}
