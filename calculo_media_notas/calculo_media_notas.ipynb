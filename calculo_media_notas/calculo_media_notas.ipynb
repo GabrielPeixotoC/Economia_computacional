{
 "cells": [
  {
   "cell_type": "markdown",
   "id": "13e65011-b3cf-4528-96f4-a046c97ab075",
   "metadata": {
    "tags": []
   },
   "source": [
    "# Programa calculo_media_notas\n",
    "\n",
    "## Problema:\n",
    "Fazer um programa que calcula a média de 7 notas de um aluno digitada pelo usuário."
   ]
  },
  {
   "cell_type": "code",
   "execution_count": 38,
   "id": "23e5e6cd-3335-44f1-8500-f51c6280336f",
   "metadata": {},
   "outputs": [],
   "source": [
    "#alocação de memória\n",
    "notas = [0, 0, 0, 0, 0, 0, 0]\n",
    "soma = 0\n",
    "indice = 0\n",
    "media = 0"
   ]
  },
  {
   "cell_type": "code",
   "execution_count": 39,
   "id": "868f3bbe-b0b1-41d5-ae4b-bfcf54244b7c",
   "metadata": {},
   "outputs": [
    {
     "name": "stdin",
     "output_type": "stream",
     "text": [
      "Digite a Nota 1 10\n",
      "Digite a Nota 2 10\n",
      "Digite a Nota 3 10\n",
      "Digite a Nota 4 10\n",
      "Digite a Nota 5 10\n",
      "Digite a Nota 6 10\n",
      "Digite a Nota 7 10\n"
     ]
    }
   ],
   "source": [
    "# entrada e processamento de dados\n",
    "\n",
    "while indice<7:\n",
    "    notas[indice]=float(input(f'Digite a Nota {indice + 1}'))\n",
    "    soma += notas[indice]\n",
    "    indice += 1\n",
    "    \n",
    "media = soma/indice"
   ]
  },
  {
   "cell_type": "code",
   "execution_count": 40,
   "id": "78d3f749-3bec-4f25-9a3f-0134af04b056",
   "metadata": {},
   "outputs": [
    {
     "name": "stdout",
     "output_type": "stream",
     "text": [
      "Média: 10.0\n"
     ]
    }
   ],
   "source": [
    "#Saída de dados\n",
    "\n",
    "print(f'Média: {media}')"
   ]
  }
 ],
 "metadata": {
  "kernelspec": {
   "display_name": "Python 3 (ipykernel)",
   "language": "python",
   "name": "python3"
  },
  "language_info": {
   "codemirror_mode": {
    "name": "ipython",
    "version": 3
   },
   "file_extension": ".py",
   "mimetype": "text/x-python",
   "name": "python",
   "nbconvert_exporter": "python",
   "pygments_lexer": "ipython3",
   "version": "3.9.7"
  }
 },
 "nbformat": 4,
 "nbformat_minor": 5
}
