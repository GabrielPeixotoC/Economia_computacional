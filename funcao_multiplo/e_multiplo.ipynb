{
 "cells": [
  {
   "cell_type": "markdown",
   "id": "4ef5fbe5-1335-4fdc-8545-54bbec192c1e",
   "metadata": {},
   "source": [
    "Escreva uma função que receba dois números e retorne True se o\n",
    "primeiro número for múltiplo do segundo."
   ]
  },
  {
   "cell_type": "code",
   "execution_count": 1,
   "id": "669d8cbc-f6fd-4f19-814b-2e3fe7d7b910",
   "metadata": {},
   "outputs": [],
   "source": [
    "def e_multiplo(a, b):\n",
    "    if a % b == 0:\n",
    "        return 'É multiplo'\n",
    "    else:\n",
    "        return 'Não é multiplo'"
   ]
  },
  {
   "cell_type": "code",
   "execution_count": 2,
   "id": "8c4e6a5c-8169-4900-9e26-0cf96408557b",
   "metadata": {},
   "outputs": [
    {
     "data": {
      "text/plain": [
       "'É multiplo'"
      ]
     },
     "execution_count": 2,
     "metadata": {},
     "output_type": "execute_result"
    }
   ],
   "source": [
    "e_multiplo(4, 2)"
   ]
  },
  {
   "cell_type": "code",
   "execution_count": 3,
   "id": "83ef1b15-782e-4224-aee2-c1836bc55e1f",
   "metadata": {},
   "outputs": [
    {
     "data": {
      "text/plain": [
       "'Não é multiplo'"
      ]
     },
     "execution_count": 3,
     "metadata": {},
     "output_type": "execute_result"
    }
   ],
   "source": [
    "e_multiplo(9, 2)"
   ]
  },
  {
   "cell_type": "code",
   "execution_count": 4,
   "id": "c1b85523-c0e4-4721-a35c-3f510a760f94",
   "metadata": {},
   "outputs": [
    {
     "data": {
      "text/plain": [
       "'É multiplo'"
      ]
     },
     "execution_count": 4,
     "metadata": {},
     "output_type": "execute_result"
    }
   ],
   "source": [
    "e_multiplo(9, 9)"
   ]
  },
  {
   "cell_type": "code",
   "execution_count": null,
   "id": "2b106656-e682-438d-8033-c996eb2e643b",
   "metadata": {},
   "outputs": [],
   "source": []
  }
 ],
 "metadata": {
  "kernelspec": {
   "display_name": "Python 3 (ipykernel)",
   "language": "python",
   "name": "python3"
  },
  "language_info": {
   "codemirror_mode": {
    "name": "ipython",
    "version": 3
   },
   "file_extension": ".py",
   "mimetype": "text/x-python",
   "name": "python",
   "nbconvert_exporter": "python",
   "pygments_lexer": "ipython3",
   "version": "3.9.7"
  }
 },
 "nbformat": 4,
 "nbformat_minor": 5
}
